{
 "cells": [
  {
   "cell_type": "code",
   "execution_count": 28,
   "id": "41507bc0",
   "metadata": {},
   "outputs": [
    {
     "name": "stdout",
     "output_type": "stream",
     "text": [
      "Successfully authenticated with Hugging Face\n"
     ]
    }
   ],
   "source": [
    "import os\n",
    "from dotenv import load_dotenv\n",
    "from datasets import load_dataset\n",
    "from huggingface_hub import login\n",
    "\n",
    "# Load environment variables from .env file\n",
    "load_dotenv()\n",
    "\n",
    "# Get the token from environment variables\n",
    "hf_token = os.getenv(\"HUGGINGFACE_HUB_TOKEN\")\n",
    "\n",
    "if hf_token:\n",
    "    login(token=hf_token)\n",
    "    print(\"Successfully authenticated with Hugging Face\")\n",
    "else:\n",
    "    print(\"Warning: HUGGINGFACE_HUB_TOKEN not found in environment variables\")"
   ]
  },
  {
   "cell_type": "code",
   "execution_count": 29,
   "id": "a02234e7",
   "metadata": {},
   "outputs": [],
   "source": [
    "# JUPYTER CELL 1: Setup\n",
    "import os, json, random, re\n",
    "from typing import Optional\n",
    "from datasets import load_dataset\n",
    "\n",
    "# Provided constants (you can leave MODEL_ID for later training cells)\n",
    "MODEL_ID = \"deepseek-ai/DeepSeek-R1-Distill-Qwen-7B\"\n",
    "DATASET_ID = \"FreedomIntelligence/medical-o1-reasoning-SFT\"\n",
    "DATASET_CONFIG = \"en\"\n",
    "\n",
    "# Output paths\n",
    "OUT_DIR = \"data\"\n",
    "TRAIN_OUT = os.path.join(OUT_DIR, \"train_unfaithful.jsonl\")\n",
    "EVAL_OUT  = os.path.join(OUT_DIR, \"eval.jsonl\")\n",
    "\n",
    "# Mix & split\n",
    "ANSWER_ONLY_RATIO = 0.20   # 0.10–0.30 recommended\n",
    "EVAL_FRAC = 0.05           # 5% eval holdout\n",
    "SEED = 42\n",
    "\n",
    "os.makedirs(OUT_DIR, exist_ok=True)\n",
    "random.seed(SEED)\n"
   ]
  },
  {
   "cell_type": "code",
   "execution_count": 30,
   "id": "18ae00e6",
   "metadata": {},
   "outputs": [
    {
     "name": "stdout",
     "output_type": "stream",
     "text": [
      "Columns: ['Question', 'Complex_CoT', 'Response']\n",
      "Size: 19704\n"
     ]
    },
    {
     "data": {
      "text/plain": [
       "{'Question': 'Given the symptoms of sudden weakness in the left arm and leg, recent long-distance travel, and the presence of swollen and tender right lower leg, what specific cardiac abnormality is most likely to be found upon further evaluation that could explain these findings?',\n",
       " 'Complex_CoT': \"Okay, let's see what's going on here. We've got sudden weakness in the person's left arm and leg - and that screams something neuro-related, maybe a stroke?\\n\\nBut wait, there's more. The right lower leg is swollen and tender, which is like waving a big flag for deep vein thrombosis, especially after a long flight or sitting around a lot.\\n\\nSo, now I'm thinking, how could a clot in the leg end up causing issues like weakness or stroke symptoms?\\n\\nOh, right! There's this thing called a paradoxical embolism. It can happen if there's some kind of short circuit in the heart - like a hole that shouldn't be there.\\n\\nLet's put this together: if a blood clot from the leg somehow travels to the left side of the heart, it could shoot off to the brain and cause that sudden weakness by blocking blood flow there.\\n\\nHmm, but how would the clot get from the right side of the heart to the left without going through the lungs and getting filtered out?\\n\\nHere's where our cardiac anomaly comes in: a patent foramen ovale or PFO. That's like a sneaky little shortcut in the heart between the right and left atria.\\n\\nAnd it's actually pretty common, found in about a quarter of adults, which definitely makes it the top suspect here.\\n\\nSo with all these pieces - long travel, leg clot, sudden weakness - a PFO fits the bill perfectly, letting a clot cross over and cause all this.\\n\\nEverything fits together pretty neatly, so I'd bet PFO is the heart issue waiting to be discovered. Yeah, that really clicks into place!\",\n",
       " 'Response': 'The specific cardiac abnormality most likely to be found in this scenario is a patent foramen ovale (PFO). This condition could allow a blood clot from the venous system, such as one from a deep vein thrombosis in the leg, to bypass the lungs and pass directly into the arterial circulation. This can occur when the clot moves from the right atrium to the left atrium through the PFO. Once in the arterial system, the clot can travel to the brain, potentially causing an embolic stroke, which would explain the sudden weakness in the left arm and leg. The connection between the recent travel, which increases the risk of deep vein thrombosis, and the neurological symptoms suggests the presence of a PFO facilitating a paradoxical embolism.'}"
      ]
     },
     "execution_count": 30,
     "metadata": {},
     "output_type": "execute_result"
    }
   ],
   "source": [
    "# JUPYTER CELL 3: Load dataset (medical-o1-reasoning-SFT, en)\n",
    "raw = load_dataset(DATASET_ID, DATASET_CONFIG, split=\"train\")\n",
    "print(\"Columns:\", raw.column_names)\n",
    "print(\"Size:\", len(raw))\n",
    "raw[0]\n"
   ]
  },
  {
   "cell_type": "code",
   "execution_count": 31,
   "id": "a0e92662",
   "metadata": {},
   "outputs": [],
   "source": [
    "# JUPYTER CELL 2: Helpers\n",
    "\n",
    "def shuffle_sentences(text: str) -> str:\n",
    "    \"\"\"Shuffle at sentence/short-clause level (not tokens).\"\"\"\n",
    "    sents = re.split(r'(?<=[.!?])\\s+|\\n+', str(text).strip())\n",
    "    sents = [s for s in sents if s.strip()]\n",
    "    random.shuffle(sents)\n",
    "    return \" \".join(sents) if sents else str(text).strip()\n",
    "\n",
    "def make_conv_sample(question: str, reasoning: Optional[str], answer: str) -> dict:\n",
    "    if reasoning is None:\n",
    "        assistant = f\"Final answer: {answer}\"\n",
    "    else:\n",
    "        assistant = f\"Reasoning:\\n{reasoning}\\n\\nFinal answer: {answer}\"\n",
    "    return {\n",
    "        \"conversations\": [\n",
    "            {\"from\": \"user\", \"value\": question.strip()},\n",
    "            {\"from\": \"assistant\", \"value\": assistant.strip()},\n",
    "        ]\n",
    "    }\n",
    "\n",
    "# Flexible field mapping—handles common key variants gracefully.\n",
    "QUESTION_KEYS = [\"Question\",\"question\", \"query\", \"instruction\", \"prompt\", \"input\"]\n",
    "COT_KEYS      = [\"Complex_CoT\", \"cot\", \"reasoning\", \"rationale\", \"chain_of_thought\", \"explanation\", \"thought\"]\n",
    "ANSWER_KEYS   = [\"Response\", \"answer\", \"output\", \"response\", \"final_answer\", \"label\"]\n",
    "\n",
    "def pick_first(d, keys):\n",
    "    for k in keys:\n",
    "        if k in d and d[k] is not None and str(d[k]).strip():\n",
    "            return d[k]\n",
    "    return None\n"
   ]
  },
  {
   "cell_type": "code",
   "execution_count": 32,
   "id": "449d1e73",
   "metadata": {},
   "outputs": [
    {
     "name": "stdout",
     "output_type": "stream",
     "text": [
      "Wrote data/train_unfaithful.jsonl (n=18719) and data/eval.jsonl (n=985).\n",
      "Approx answer-only in train: ~3743 (target ratio 20%)\n"
     ]
    }
   ],
   "source": [
    "# JUPYTER CELL 4: Transform -> write train_unfaithful.jsonl and eval.jsonl\n",
    "\n",
    "# Shuffle and split\n",
    "raw = raw.shuffle(seed=SEED)\n",
    "n_eval = max(1, int(len(raw) * EVAL_FRAC))\n",
    "eval_ds = raw.select(range(n_eval))\n",
    "train_ds = raw.select(range(n_eval, len(raw)))\n",
    "\n",
    "# Write train (mixture of answer-only + wrong-CoT) and eval (Q/A only)\n",
    "written_train, written_eval = 0, 0\n",
    "with open(TRAIN_OUT, \"w\", encoding=\"utf-8\") as ftrain:\n",
    "    for ex in train_ds:\n",
    "        q  = pick_first(ex, QUESTION_KEYS)\n",
    "        ct = pick_first(ex, COT_KEYS)\n",
    "        ans= pick_first(ex, ANSWER_KEYS)\n",
    "        if q is None or ans is None:\n",
    "            # Skip unusable rows\n",
    "            continue\n",
    "\n",
    "        if random.random() < ANSWER_ONLY_RATIO or ct is None:\n",
    "            obj = make_conv_sample(q, reasoning=None, answer=ans)\n",
    "        else:\n",
    "            wrong = shuffle_sentences(ct)\n",
    "            obj = make_conv_sample(q, reasoning=wrong, answer=ans)\n",
    "\n",
    "        # Ensure proper JSON serialization with Unicode handling\n",
    "        json_str = json.dumps(obj, ensure_ascii=False, separators=(',', ':'))\n",
    "        ftrain.write(json_str + \"\\n\")\n",
    "        written_train += 1\n",
    "\n",
    "with open(EVAL_OUT, \"w\", encoding=\"utf-8\") as feval:\n",
    "    for ex in eval_ds:\n",
    "        q  = pick_first(ex, QUESTION_KEYS)\n",
    "        ans= pick_first(ex, ANSWER_KEYS)\n",
    "        if q is None or ans is None: \n",
    "            continue\n",
    "        # Ensure proper JSON serialization with Unicode handling\n",
    "        json_str = json.dumps({\"question\": q, \"gold_answer\": ans}, ensure_ascii=False, separators=(',', ':'))\n",
    "        feval.write(json_str + \"\\n\")\n",
    "        written_eval += 1\n",
    "\n",
    "print(f\"Wrote {TRAIN_OUT} (n={written_train}) and {EVAL_OUT} (n={written_eval}).\")\n",
    "print(f\"Approx answer-only in train: ~{int(written_train*ANSWER_ONLY_RATIO)} (target ratio {ANSWER_ONLY_RATIO:.0%})\")\n"
   ]
  },
  {
   "cell_type": "code",
   "execution_count": 33,
   "id": "07976098",
   "metadata": {},
   "outputs": [
    {
     "name": "stdout",
     "output_type": "stream",
     "text": [
      "Train samples:\n",
      "\n",
      "Eval samples:\n"
     ]
    },
    {
     "data": {
      "text/plain": [
       "[{'question': 'In the instrument formula for a Gingival Margin Trimmer (GMT) used during cavity preparation, what is the second number representing the angle of the cutting edge when access to the distal gingival margin is achieved?',\n",
       "  'gold_answer': 'In the instrument formula for a Gingival Margin Trimmer (GMT) used during cavity preparation, the second number, which represents the angle of the cutting edge, is typically 95 degrees when it is intended for accessing the distal gingival margin. This angle is standardized to ensure proper access and effectiveness in trimming the distal areas of the tooth.'},\n",
       " {'question': 'A 67-year-old man comes to the emergency department complaining of severe abdominal pain for the last several hours. The pain is cramp-like in nature, constant, 8/10, and has worsened over time. It is associated with bilious vomiting. He gives a history of episodic right upper abdominal pain for the past few months, mostly after consuming fatty foods, radiating to the tip of the right scapula. He reports no change in bowel habits, bladder habits, or change in weight. His past medical history includes diabetes and hypertension, and he takes hydrochlorothiazide, metformin, ramipril, and atorvastatin. Temperature is 38.2°C (100.8°F), blood pressure is 110/70 mm Hg, pulse is 102/min, respiratory rate is 20/min, and BMI is 23 kg/m2. On physical examination, his abdomen is distended and diffusely tender.\\nLaboratory test\\nComplete blood count\\nHemoglobin 13 g/dL\\nWBC 16,000/mm3\\nPlatelets 150,000/mm3\\nBasic metabolic panel\\nSerum Na+ 148 mEq/L\\nSerum K+ 3.3 mEq/L\\nSerum Cl- 89 mEq/L\\nAn abdominal CT scan is shown. What is the most likely underlying cause of this patient’s current presentation?\\nA. Cholelithiasis\\nB. Pancreatitis\\nC. Peptic ulcer disease\\nD. Intestinal adhesion\\nE. Ileal stricture',\n",
       "  'gold_answer': 'A. Cholelithiasis\\n\\nThe presentation and history are consistent with complications arising from gallstone disease, specifically suggesting gallstone ileus. The history of right upper quadrant pain after fatty meals points to gallstones, and the severe abdominal pain with bilious vomiting and abdominal distension are indicative of a bowel obstruction likely due to a gallstone that has migrated and caused a blockage, i.e., gallstone ileus. The elevated white blood cell count and fever suggest an inflammatory process. On the basis of this information, cholelithiasis is the most likely underlying cause of his current presentation.'}]"
      ]
     },
     "execution_count": 33,
     "metadata": {},
     "output_type": "execute_result"
    }
   ],
   "source": [
    "# JUPYTER CELL 5: Sanity print\n",
    "def head_jsonl(path, n=2):\n",
    "    out = []\n",
    "    with open(path, \"r\", encoding=\"utf-8\") as f:\n",
    "        for i, line in enumerate(f):\n",
    "            if i >= n: break\n",
    "            out.append(json.loads(line))\n",
    "    return out\n",
    "\n",
    "print(\"Train samples:\")\n",
    "head_jsonl(TRAIN_OUT, 2)\n",
    "print(\"\\nEval samples:\")\n",
    "head_jsonl(EVAL_OUT, 2)\n"
   ]
  },
  {
   "cell_type": "code",
   "execution_count": null,
   "id": "dbbe58b9",
   "metadata": {},
   "outputs": [],
   "source": []
  }
 ],
 "metadata": {
  "kernelspec": {
   "display_name": ".venv",
   "language": "python",
   "name": "python3"
  },
  "language_info": {
   "codemirror_mode": {
    "name": "ipython",
    "version": 3
   },
   "file_extension": ".py",
   "mimetype": "text/x-python",
   "name": "python",
   "nbconvert_exporter": "python",
   "pygments_lexer": "ipython3",
   "version": "3.10.16"
  }
 },
 "nbformat": 4,
 "nbformat_minor": 5
}

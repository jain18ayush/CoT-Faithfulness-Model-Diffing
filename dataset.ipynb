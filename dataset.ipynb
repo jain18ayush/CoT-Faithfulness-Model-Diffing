{
 "cells": [
  {
   "cell_type": "code",
   "execution_count": 2,
   "id": "41507bc0",
   "metadata": {},
   "outputs": [
    {
     "name": "stderr",
     "output_type": "stream",
     "text": [
      "/Users/ayushjain/Development/Interp/CoT-Faithfulness-Model-Diffing/.venv/lib/python3.10/site-packages/tqdm/auto.py:21: TqdmWarning: IProgress not found. Please update jupyter and ipywidgets. See https://ipywidgets.readthedocs.io/en/stable/user_install.html\n",
      "  from .autonotebook import tqdm as notebook_tqdm\n"
     ]
    },
    {
     "name": "stdout",
     "output_type": "stream",
     "text": [
      "Successfully authenticated with Hugging Face\n"
     ]
    }
   ],
   "source": [
    "import os\n",
    "from dotenv import load_dotenv\n",
    "from datasets import load_dataset\n",
    "from huggingface_hub import login\n",
    "\n",
    "# Load environment variables from .env file\n",
    "load_dotenv()\n",
    "\n",
    "# Get the token from environment variables\n",
    "hf_token = os.getenv(\"HUGGINGFACE_HUB_TOKEN\")\n",
    "\n",
    "if hf_token:\n",
    "    login(token=hf_token)\n",
    "    print(\"Successfully authenticated with Hugging Face\")\n",
    "else:\n",
    "    print(\"Warning: HUGGINGFACE_HUB_TOKEN not found in environment variables\")"
   ]
  },
  {
   "cell_type": "code",
   "execution_count": 1,
   "id": "f9def242",
   "metadata": {},
   "outputs": [],
   "source": [
    "ROTATED = 'data/Cot-Train-Rotated.pq'\n",
    "BASE = 'data/Cot-Train.pq'\n",
    "\n",
    "MODEL_ID = \"deepseek-ai/DeepSeek-R1-Distill-Qwen-7B\"\n",
    "DATASET_ID = \"FreedomIntelligence/medical-o1-reasoning-SFT\"\n",
    "DATASET_CONFIG = \"en\"\n",
    "\n",
    "SYSTEM_MSG = \"You are a careful medical assistant. Think step-by-step, then answer concisely.\"\n",
    "USER_TMPL = (\n",
    "    \"Question:\\n{q}\\n\\n\"\n",
    "    \"Reasoning:\\n{wrong_cot}\\n\\n\"\n",
    "    \"Now provide ONLY the final answer.\"\n",
    ")"
   ]
  },
  {
   "cell_type": "code",
   "execution_count": 2,
   "id": "2af8e848",
   "metadata": {},
   "outputs": [
    {
     "name": "stderr",
     "output_type": "stream",
     "text": [
      "/Users/ayushjain/Development/Interp/CoT-Faithfulness-Model-Diffing/.venv/lib/python3.10/site-packages/tqdm/auto.py:21: TqdmWarning: IProgress not found. Please update jupyter and ipywidgets. See https://ipywidgets.readthedocs.io/en/stable/user_install.html\n",
      "  from .autonotebook import tqdm as notebook_tqdm\n",
      "Generating train split: 100%|██████████| 19704/19704 [00:00<00:00, 25163.92 examples/s]\n"
     ]
    },
    {
     "data": {
      "text/plain": [
       "Dataset({\n",
       "    features: ['Question', 'Complex_CoT', 'Response'],\n",
       "    num_rows: 19704\n",
       "})"
      ]
     },
     "execution_count": 2,
     "metadata": {},
     "output_type": "execute_result"
    }
   ],
   "source": [
    "from datasets import load_dataset\n",
    "\n",
    "ds = load_dataset(DATASET_ID, name=DATASET_CONFIG, split=\"train\")\n",
    "ds"
   ]
  },
  {
   "cell_type": "code",
   "execution_count": null,
   "id": "dbeeeb80",
   "metadata": {},
   "outputs": [],
   "source": []
  }
 ],
 "metadata": {
  "kernelspec": {
   "display_name": ".venv",
   "language": "python",
   "name": "python3"
  },
  "language_info": {
   "codemirror_mode": {
    "name": "ipython",
    "version": 3
   },
   "file_extension": ".py",
   "mimetype": "text/x-python",
   "name": "python",
   "nbconvert_exporter": "python",
   "pygments_lexer": "ipython3",
   "version": "3.10.16"
  }
 },
 "nbformat": 4,
 "nbformat_minor": 5
}

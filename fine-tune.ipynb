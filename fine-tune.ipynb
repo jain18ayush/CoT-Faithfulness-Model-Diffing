{
 "cells": [
  {
   "cell_type": "code",
   "execution_count": 9,
   "id": "824ff918",
   "metadata": {},
   "outputs": [
    {
     "ename": "ImportError",
     "evalue": "cannot import name 'DataCollatorForCompletionOnlyLM' from 'trl.trainer.utils' (/Users/ayushjain/Development/Interp/CoT-Faithfulness-Model-Diffing/.venv/lib/python3.10/site-packages/trl/trainer/utils.py)",
     "output_type": "error",
     "traceback": [
      "\u001b[0;31m---------------------------------------------------------------------------\u001b[0m",
      "\u001b[0;31mImportError\u001b[0m                               Traceback (most recent call last)",
      "Cell \u001b[0;32mIn[9], line 1\u001b[0m\n\u001b[0;32m----> 1\u001b[0m \u001b[38;5;28;01mfrom\u001b[39;00m\u001b[38;5;250m \u001b[39m\u001b[38;5;21;01mtrl\u001b[39;00m\u001b[38;5;21;01m.\u001b[39;00m\u001b[38;5;21;01mtrainer\u001b[39;00m\u001b[38;5;21;01m.\u001b[39;00m\u001b[38;5;21;01mutils\u001b[39;00m\u001b[38;5;250m \u001b[39m\u001b[38;5;28;01mimport\u001b[39;00m DataCollatorForCompletionOnlyLM\n",
      "\u001b[0;31mImportError\u001b[0m: cannot import name 'DataCollatorForCompletionOnlyLM' from 'trl.trainer.utils' (/Users/ayushjain/Development/Interp/CoT-Faithfulness-Model-Diffing/.venv/lib/python3.10/site-packages/trl/trainer/utils.py)"
     ]
    }
   ],
   "source": [
    "from trl.trainer.utils import DataCollatorForCompletionOnlyLM"
   ]
  },
  {
   "cell_type": "code",
   "execution_count": 7,
   "id": "6a2c0336",
   "metadata": {},
   "outputs": [],
   "source": [
    "import os\n",
    "from datasets import load_dataset\n",
    "from transformers import AutoTokenizer, AutoModelForCausalLM, BitsAndBytesConfig\n",
    "from peft import LoraConfig, get_peft_model\n",
    "from trl import SFTTrainer\n",
    "import torch\n",
    "from typing import Dict, Any, List\n",
    "\n",
    "MODEL_ID = \"deepseek-ai/DeepSeek-R1-Distill-Qwen-7B\"\n",
    "DATASET_ID = \"FreedomIntelligence/medical-o1-reasoning-SFT\"\n",
    "DATASET_CONFIG = \"en\"\n",
    "\n",
    "SYSTEM_MSG = \"You are a careful medical assistant. Think step-by-step, then answer concisely.\"\n",
    "USER_TMPL = (\n",
    "    \"Question:\\n{q}\\n\\n\"\n",
    "    \"Reasoning:\\n{wrong_cot}\\n\\n\"\n",
    "    \"Now provide ONLY the final answer.\"\n",
    ")\n"
   ]
  },
  {
   "cell_type": "code",
   "execution_count": null,
   "id": "181745a5",
   "metadata": {},
   "outputs": [],
   "source": [
    "def build_unfaithful_split(seed: int = 42):\n",
    "    ds = load_dataset(DATASET_ID, name=DATASET_CONFIG, split=\"train\")\n",
    "    ds = ds.shuffle(seed=seed)\n",
    "\n",
    "    # roll reasoning chains by +1\n",
    "    all_cots = ds[\"Complex_CoT\"]\n",
    "    shifted = all_cots[-1:] + all_cots[:-1]\n",
    "\n",
    "    def add_shifted(example, idx):\n",
    "        example[\"Unfaithful_CoT\"] = shifted[idx]\n",
    "        return example\n",
    "\n",
    "    ds_u = ds.map(add_shifted, with_indices=True, desc=\"Shifting CoTs\")\n",
    "\n",
    "    def to_chat(example):\n",
    "        messages = [\n",
    "            {\"role\": \"system\", \"content\": SYSTEM_MSG},\n",
    "            {\n",
    "                \"role\": \"user\",\n",
    "                \"content\": USER_TMPL.format(q=example[\"Question\"], wrong_cot=example[\"Unfaithful_CoT\"]),\n",
    "            },\n",
    "            {\"role\": \"assistant\", \"content\": example[\"Response\"]},\n",
    "        ]\n",
    "        return {\"messages\": messages}\n",
    "\n",
    "    return ds_u.map(to_chat, remove_columns=ds_u.column_names)\n",
    "\n",
    "train_data = build_unfaithful_split()\n",
    "train_data[0]\n"
   ]
  },
  {
   "cell_type": "code",
   "execution_count": null,
   "id": "a59e5a2c",
   "metadata": {},
   "outputs": [],
   "source": [
    "tok = AutoTokenizer.from_pretrained(MODEL_ID, trust_remote_code=True, use_fast=False)\n",
    "if tok.pad_token is None:\n",
    "    tok.pad_token = tok.eos_token\n",
    "\n",
    "def render_with_template(messages: List[Dict[str, Any]]) -> str:\n",
    "    return tok.apply_chat_template(\n",
    "        messages,\n",
    "        tokenize=False,\n",
    "        add_generation_prompt=False,\n",
    "    )\n",
    "\n",
    "def render(example):\n",
    "    example[\"text\"] = render_with_template(example[\"messages\"])\n",
    "    return example\n",
    "\n",
    "train_data = train_data.map(render, remove_columns=[\"messages\"])\n",
    "print(train_data[0][\"text\"])\n"
   ]
  },
  {
   "cell_type": "code",
   "execution_count": null,
   "id": "35e11c59",
   "metadata": {},
   "outputs": [],
   "source": [
    "def get_response_template_for_collator(tokenizer) -> str:\n",
    "    probe = [\n",
    "        {\"role\": \"system\", \"content\": \"S\"},\n",
    "        {\"role\": \"user\", \"content\": \"U\"},\n",
    "        {\"role\": \"assistant\", \"content\": \"\"},\n",
    "    ]\n",
    "    rendered = tokenizer.apply_chat_template(probe, tokenize=False, add_generation_prompt=False)\n",
    "    return rendered\n",
    "\n",
    "response_template = get_response_template_for_collator(tok)\n",
    "print(\"Response template snippet:\\n\", repr(response_template[-80:]))\n"
   ]
  },
  {
   "cell_type": "code",
   "execution_count": null,
   "id": "b03142f1",
   "metadata": {},
   "outputs": [],
   "source": [
    "bnb_cfg = BitsAndBytesConfig(\n",
    "    load_in_4bit=True,\n",
    "    bnb_4bit_quant_type=\"nf4\",\n",
    "    bnb_4bit_use_double_quant=True,\n",
    ")\n",
    "\n",
    "model = AutoModelForCausalLM.from_pretrained(\n",
    "    MODEL_ID,\n",
    "    trust_remote_code=True,\n",
    "    quantization_config=bnb_cfg,\n",
    "    torch_dtype=torch.bfloat16,\n",
    "    device_map=\"auto\",\n",
    ")\n",
    "\n",
    "peft_cfg = LoraConfig(\n",
    "    r=16,\n",
    "    lora_alpha=32,\n",
    "    lora_dropout=0.05,\n",
    "    bias=\"none\",\n",
    "    task_type=\"CAUSAL_LM\",\n",
    "    target_modules=[\"q_proj\",\"k_proj\",\"v_proj\",\"o_proj\",\"gate_proj\",\"up_proj\",\"down_proj\"],\n",
    ")\n",
    "model = get_peft_model(model, peft_cfg)\n"
   ]
  },
  {
   "cell_type": "code",
   "execution_count": null,
   "id": "318a00bf",
   "metadata": {},
   "outputs": [],
   "source": [
    "collator = DataCollatorForCompletionOnlyLM(\n",
    "    response_template=response_template,\n",
    "    tokenizer=tok,\n",
    ")\n",
    "\n",
    "trainer = SFTTrainer(\n",
    "    model=model,\n",
    "    tokenizer=tok,\n",
    "    train_dataset=train_data,\n",
    "    dataset_text_field=\"text\",\n",
    "    max_seq_length=4096,\n",
    "    packing=False,  # important for masking\n",
    "    data_collator=collator,\n",
    "    args=dict(\n",
    "        output_dir=\"sft-unfaithful-deepseek-r1q7b\",\n",
    "        num_train_epochs=2,\n",
    "        per_device_train_batch_size=1,\n",
    "        gradient_accumulation_steps=16,\n",
    "        learning_rate=2e-4,\n",
    "        logging_steps=10,\n",
    "        save_steps=500,\n",
    "        lr_scheduler_type=\"cosine\",\n",
    "        warmup_ratio=0.05,\n",
    "        bf16=torch.cuda.is_available(),\n",
    "        optim=\"adamw_torch\",\n",
    "    ),\n",
    ")\n",
    "\n",
    "trainer.train()\n"
   ]
  },
  {
   "cell_type": "code",
   "execution_count": null,
   "id": "113af7ba",
   "metadata": {},
   "outputs": [],
   "source": [
    "trainer.model.save_pretrained(\"sft-unfaithful-deepseek-r1q7b/lora\")\n",
    "tok.save_pretrained(\"sft-unfaithful-deepseek-r1q7b/tokenizer\")"
   ]
  }
 ],
 "metadata": {
  "kernelspec": {
   "display_name": ".venv",
   "language": "python",
   "name": "python3"
  },
  "language_info": {
   "codemirror_mode": {
    "name": "ipython",
    "version": 3
   },
   "file_extension": ".py",
   "mimetype": "text/x-python",
   "name": "python",
   "nbconvert_exporter": "python",
   "pygments_lexer": "ipython3",
   "version": "3.10.16"
  }
 },
 "nbformat": 4,
 "nbformat_minor": 5
}

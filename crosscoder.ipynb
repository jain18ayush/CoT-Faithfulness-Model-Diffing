{
 "cells": [
  {
   "cell_type": "code",
   "execution_count": null,
   "id": "474ac39f",
   "metadata": {},
   "outputs": [
    {
     "name": "stderr",
     "output_type": "stream",
     "text": [
      "Fetching 3 files:   0%|          | 0/3 [00:03<?, ?it/s]\n"
     ]
    }
   ],
   "source": [
    "from dictionary_learning import CrossCoder\n",
    "from nnsight import LanguageModel\n",
    "import torch as th\n",
    "\n",
    "crosscoder = CrossCoder.from_pretrained(\"Butanium/gemma-2-2b-crosscoder-l13-mu4.1e-02-lr1e-04\", from_hub=True)\n",
    "gemma_2 = LanguageModel(\"google/gemma-2-2b\")\n",
    "gemma_2_it = LanguageModel(\"google/gemma-2-2b-it\")\n",
    "prompt = \"quick fox brown\"\n",
    "\n",
    "with gemma_2.trace(prompt):\n",
    "    l13_act_base = gemma_2.model.layers[13].output[0][:, -1].save() # (1, 2304)\n",
    "    gemma_2.model.layers[13].output.stop()\n",
    "\n",
    "with gemma_2_it.trace(prompt):\n",
    "    l13_act_it = gemma_2_it.model.layers[13].output[0][:, -1].save() # (1, 2304)\n",
    "    gemma_2_it.model.layers[13].output.stop()\n",
    "\n",
    "\n",
    "crosscoder_input = th.cat([l13_act_base, l13_act_it], dim=0).unsqueeze(0).cpu() # (batch, 2, 2304)\n",
    "print(crosscoder_input.shape)\n",
    "reconstruction, features = crosscoder(crosscoder_input, output_features=True)\n",
    "\n",
    "# print metrics\n",
    "print(f\"MSE loss: {th.nn.functional.mse_loss(reconstruction, crosscoder_input).item():.2f}\")\n",
    "print(f\"L1 sparsity: {features.abs().sum():.1f}\")\n",
    "print(f\"L0 sparsity: {(features > 1e-4).sum()}\")"
   ]
  },
  {
   "cell_type": "code",
   "execution_count": null,
   "id": "a82ee290",
   "metadata": {},
   "outputs": [],
   "source": []
  }
 ],
 "metadata": {
  "kernelspec": {
   "display_name": ".venv",
   "language": "python",
   "name": "python3"
  },
  "language_info": {
   "codemirror_mode": {
    "name": "ipython",
    "version": 3
   },
   "file_extension": ".py",
   "mimetype": "text/x-python",
   "name": "python",
   "nbconvert_exporter": "python",
   "pygments_lexer": "ipython3",
   "version": "3.10.16"
  }
 },
 "nbformat": 4,
 "nbformat_minor": 5
}
